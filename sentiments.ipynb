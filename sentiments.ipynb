{
 "cells": [
  {
   "cell_type": "markdown",
   "id": "c23a0466-0f21-42b4-9d37-64eb51db90bb",
   "metadata": {},
   "source": [
    "# NLP: Sentiment Classification\n",
    "### Classify the tweets by implementing any NLP approach for Sentiment analysis on the provided dataset. The objective is to recognize whether the given tweet is oriented as negative (-1), neutral (0), or positive (1) tone. Focus majorly on unique preprocessing techniques."
   ]
  },
  {
   "cell_type": "markdown",
   "id": "7eab3800-f8bc-493a-a5e8-76afb56f3552",
   "metadata": {},
   "source": [
    "## NO. 1 \n",
    "#### Importing the necessary librarie for the project and data"
   ]
  },
  {
   "cell_type": "code",
   "execution_count": 1,
   "id": "dfa19593-4130-4993-bd39-e8e8fb64a4f5",
   "metadata": {},
   "outputs": [],
   "source": [
    "#Importing the libraries\n",
    "import pandas as pd\n",
    "import numpy as np\n",
    "import seaborn as sns\n",
    "import string\n",
    "import re\n",
    "import warnings\n",
    "import matplotlib.pyplot as plt\n",
    "%matplotlib inline\n",
    "warnings.filterwarnings('ignore')\n",
    "sns.set_style('darkgrid')"
   ]
  },
  {
   "cell_type": "code",
   "execution_count": 2,
   "id": "5ccb9741-81d6-4234-b5a4-744eb2e037e7",
   "metadata": {},
   "outputs": [],
   "source": [
    "#Imprting the data\n",
    "data = pd.read_csv(\"Twitter_Data.csv\")"
   ]
  },
  {
   "cell_type": "code",
   "execution_count": 3,
   "id": "943a1bc6-9615-45ed-aff1-bb0f9e1a9d74",
   "metadata": {},
   "outputs": [
    {
     "data": {
      "text/html": [
       "<div>\n",
       "<style scoped>\n",
       "    .dataframe tbody tr th:only-of-type {\n",
       "        vertical-align: middle;\n",
       "    }\n",
       "\n",
       "    .dataframe tbody tr th {\n",
       "        vertical-align: top;\n",
       "    }\n",
       "\n",
       "    .dataframe thead th {\n",
       "        text-align: right;\n",
       "    }\n",
       "</style>\n",
       "<table border=\"1\" class=\"dataframe\">\n",
       "  <thead>\n",
       "    <tr style=\"text-align: right;\">\n",
       "      <th></th>\n",
       "      <th>clean_text</th>\n",
       "      <th>category</th>\n",
       "    </tr>\n",
       "  </thead>\n",
       "  <tbody>\n",
       "    <tr>\n",
       "      <th>0</th>\n",
       "      <td>when modi promised “minimum government maximum...</td>\n",
       "      <td>-1.0</td>\n",
       "    </tr>\n",
       "    <tr>\n",
       "      <th>1</th>\n",
       "      <td>talk all the nonsense and continue all the dra...</td>\n",
       "      <td>0.0</td>\n",
       "    </tr>\n",
       "    <tr>\n",
       "      <th>2</th>\n",
       "      <td>what did just say vote for modi  welcome bjp t...</td>\n",
       "      <td>1.0</td>\n",
       "    </tr>\n",
       "    <tr>\n",
       "      <th>3</th>\n",
       "      <td>asking his supporters prefix chowkidar their n...</td>\n",
       "      <td>1.0</td>\n",
       "    </tr>\n",
       "    <tr>\n",
       "      <th>4</th>\n",
       "      <td>answer who among these the most powerful world...</td>\n",
       "      <td>1.0</td>\n",
       "    </tr>\n",
       "  </tbody>\n",
       "</table>\n",
       "</div>"
      ],
      "text/plain": [
       "                                          clean_text  category\n",
       "0  when modi promised “minimum government maximum...      -1.0\n",
       "1  talk all the nonsense and continue all the dra...       0.0\n",
       "2  what did just say vote for modi  welcome bjp t...       1.0\n",
       "3  asking his supporters prefix chowkidar their n...       1.0\n",
       "4  answer who among these the most powerful world...       1.0"
      ]
     },
     "execution_count": 3,
     "metadata": {},
     "output_type": "execute_result"
    }
   ],
   "source": [
    "# Showing the top 5 rows\n",
    "data.head()"
   ]
  },
  {
   "cell_type": "code",
   "execution_count": 4,
   "id": "e4cbc22f-3738-4208-b4e1-d1f7e87db84c",
   "metadata": {},
   "outputs": [
    {
     "data": {
      "text/plain": [
       " 1.0    72250\n",
       " 0.0    55213\n",
       "-1.0    35510\n",
       "Name: category, dtype: int64"
      ]
     },
     "execution_count": 4,
     "metadata": {},
     "output_type": "execute_result"
    }
   ],
   "source": [
    "#Finding the count of the categories\n",
    "data['category'].value_counts()"
   ]
  },
  {
   "cell_type": "code",
   "execution_count": 5,
   "id": "6b098f2b-f88e-4a1a-bdf7-233eebe69e66",
   "metadata": {},
   "outputs": [
    {
     "data": {
      "text/plain": [
       "(162980, 2)"
      ]
     },
     "execution_count": 5,
     "metadata": {},
     "output_type": "execute_result"
    }
   ],
   "source": [
    "#Finding the total rows and coluns in the dataframe using shape function\n",
    "data.shape"
   ]
  },
  {
   "cell_type": "code",
   "execution_count": 6,
   "id": "63c97030-7152-4dcd-9b3f-35c912fdfcd3",
   "metadata": {},
   "outputs": [],
   "source": [
    "#Replacing the dummy variables for the categories with the actual names of the categories\n",
    "data['category']=data['category'].replace({-1.0:'negative',0.0:'neutral',1.0:'positive'})"
   ]
  },
  {
   "cell_type": "code",
   "execution_count": 7,
   "id": "b297923b-e8e9-4c0f-9b56-1123dbb89a7e",
   "metadata": {},
   "outputs": [
    {
     "data": {
      "text/html": [
       "<div>\n",
       "<style scoped>\n",
       "    .dataframe tbody tr th:only-of-type {\n",
       "        vertical-align: middle;\n",
       "    }\n",
       "\n",
       "    .dataframe tbody tr th {\n",
       "        vertical-align: top;\n",
       "    }\n",
       "\n",
       "    .dataframe thead th {\n",
       "        text-align: right;\n",
       "    }\n",
       "</style>\n",
       "<table border=\"1\" class=\"dataframe\">\n",
       "  <thead>\n",
       "    <tr style=\"text-align: right;\">\n",
       "      <th></th>\n",
       "      <th>clean_text</th>\n",
       "      <th>category</th>\n",
       "    </tr>\n",
       "  </thead>\n",
       "  <tbody>\n",
       "    <tr>\n",
       "      <th>0</th>\n",
       "      <td>when modi promised “minimum government maximum...</td>\n",
       "      <td>negative</td>\n",
       "    </tr>\n",
       "    <tr>\n",
       "      <th>1</th>\n",
       "      <td>talk all the nonsense and continue all the dra...</td>\n",
       "      <td>neutral</td>\n",
       "    </tr>\n",
       "    <tr>\n",
       "      <th>2</th>\n",
       "      <td>what did just say vote for modi  welcome bjp t...</td>\n",
       "      <td>positive</td>\n",
       "    </tr>\n",
       "    <tr>\n",
       "      <th>3</th>\n",
       "      <td>asking his supporters prefix chowkidar their n...</td>\n",
       "      <td>positive</td>\n",
       "    </tr>\n",
       "    <tr>\n",
       "      <th>4</th>\n",
       "      <td>answer who among these the most powerful world...</td>\n",
       "      <td>positive</td>\n",
       "    </tr>\n",
       "  </tbody>\n",
       "</table>\n",
       "</div>"
      ],
      "text/plain": [
       "                                          clean_text  category\n",
       "0  when modi promised “minimum government maximum...  negative\n",
       "1  talk all the nonsense and continue all the dra...   neutral\n",
       "2  what did just say vote for modi  welcome bjp t...  positive\n",
       "3  asking his supporters prefix chowkidar their n...  positive\n",
       "4  answer who among these the most powerful world...  positive"
      ]
     },
     "execution_count": 7,
     "metadata": {},
     "output_type": "execute_result"
    }
   ],
   "source": [
    "data.head()"
   ]
  },
  {
   "cell_type": "markdown",
   "id": "4bb5efb0-b8d0-4228-aea8-073ed0f59e71",
   "metadata": {},
   "source": [
    "#### Checking if there are missing values and droping them"
   ]
  },
  {
   "cell_type": "code",
   "execution_count": 8,
   "id": "a2515b23-8914-461f-b899-66c5f0cd05bb",
   "metadata": {},
   "outputs": [
    {
     "data": {
      "text/plain": [
       "clean_text    4\n",
       "category      7\n",
       "dtype: int64"
      ]
     },
     "execution_count": 8,
     "metadata": {},
     "output_type": "execute_result"
    }
   ],
   "source": [
    "data.isnull().sum()"
   ]
  },
  {
   "cell_type": "code",
   "execution_count": 9,
   "id": "67960e60-7aad-40ff-9abc-760c016543c7",
   "metadata": {},
   "outputs": [],
   "source": [
    "#Dropping the missing data \n",
    "data.dropna(inplace=True)"
   ]
  },
  {
   "cell_type": "code",
   "execution_count": 10,
   "id": "34a750d2-ee76-44ac-99cf-1a4fa0a6f731",
   "metadata": {},
   "outputs": [
    {
     "data": {
      "text/plain": [
       "clean_text    0\n",
       "category      0\n",
       "dtype: int64"
      ]
     },
     "execution_count": 10,
     "metadata": {},
     "output_type": "execute_result"
    }
   ],
   "source": [
    "#Checking if the missing variables have been dropped\n",
    "data.isnull().sum()"
   ]
  },
  {
   "cell_type": "code",
   "execution_count": 11,
   "id": "03679baf-31cc-49cd-94f8-ada412b242e0",
   "metadata": {},
   "outputs": [
    {
     "data": {
      "text/plain": [
       "(162969, 2)"
      ]
     },
     "execution_count": 11,
     "metadata": {},
     "output_type": "execute_result"
    }
   ],
   "source": [
    "data.shape"
   ]
  },
  {
   "cell_type": "markdown",
   "id": "674f97fa-7688-46f9-8aa3-3ea1f60b31d1",
   "metadata": {},
   "source": [
    "# NO.2 \n",
    "## Exploratory analysis"
   ]
  },
  {
   "cell_type": "code",
   "execution_count": null,
   "id": "cf62b9ca-8860-4fb7-b6e6-45afad15be5a",
   "metadata": {},
   "outputs": [],
   "source": []
  },
  {
   "cell_type": "code",
   "execution_count": 12,
   "id": "7adbeadd-723b-4402-a7d1-04eeb55e26e9",
   "metadata": {},
   "outputs": [
    {
     "data": {
      "text/plain": [
       "Text(0.5, 1.0, 'Distribution of the categories')"
      ]
     },
     "execution_count": 12,
     "metadata": {},
     "output_type": "execute_result"
    },
    {
     "data": {
      "image/png": "[encoded data removed]",
      "text/plain": [
       "<Figure size 432x288 with 1 Axes>"
      ]
     },
     "metadata": {},
     "output_type": "display_data"
    }
   ],
   "source": [
    "#Distribution of the variables in the category column\n",
    "sns.countplot(data['category'])\n",
    "plt.title(\"Distribution of the categories\")"
   ]
  },
  {
   "cell_type": "markdown",
   "id": "c5c55473-c081-4c8a-8267-70b2f3334ac0",
   "metadata": {},
   "source": [
    "#### From the above we notice graph, we notice that **Positive** category as the highest number followed by **neutral** category and lastly the **negative** category.\n",
    "#### Also we notice that distribution of the categories is imbalanced"
   ]
  },
  {
   "cell_type": "code",
   "execution_count": 13,
   "id": "6513022b-b467-4590-8d73-a59b64f9427a",
   "metadata": {
    "tags": []
   },
   "outputs": [
    {
     "data": {
      "text/html": [
       "<div>\n",
       "<style scoped>\n",
       "    .dataframe tbody tr th:only-of-type {\n",
       "        vertical-align: middle;\n",
       "    }\n",
       "\n",
       "    .dataframe tbody tr th {\n",
       "        vertical-align: top;\n",
       "    }\n",
       "\n",
       "    .dataframe thead th {\n",
       "        text-align: right;\n",
       "    }\n",
       "</style>\n",
       "<table border=\"1\" class=\"dataframe\">\n",
       "  <thead>\n",
       "    <tr style=\"text-align: right;\">\n",
       "      <th></th>\n",
       "      <th>clean_text</th>\n",
       "      <th>category</th>\n",
       "      <th>Length</th>\n",
       "    </tr>\n",
       "  </thead>\n",
       "  <tbody>\n",
       "    <tr>\n",
       "      <th>0</th>\n",
       "      <td>when modi promised “minimum government maximum...</td>\n",
       "      <td>negative</td>\n",
       "      <td>210</td>\n",
       "    </tr>\n",
       "    <tr>\n",
       "      <th>1</th>\n",
       "      <td>talk all the nonsense and continue all the dra...</td>\n",
       "      <td>neutral</td>\n",
       "      <td>68</td>\n",
       "    </tr>\n",
       "    <tr>\n",
       "      <th>2</th>\n",
       "      <td>what did just say vote for modi  welcome bjp t...</td>\n",
       "      <td>positive</td>\n",
       "      <td>117</td>\n",
       "    </tr>\n",
       "    <tr>\n",
       "      <th>3</th>\n",
       "      <td>asking his supporters prefix chowkidar their n...</td>\n",
       "      <td>positive</td>\n",
       "      <td>212</td>\n",
       "    </tr>\n",
       "    <tr>\n",
       "      <th>4</th>\n",
       "      <td>answer who among these the most powerful world...</td>\n",
       "      <td>positive</td>\n",
       "      <td>81</td>\n",
       "    </tr>\n",
       "  </tbody>\n",
       "</table>\n",
       "</div>"
      ],
      "text/plain": [
       "                                          clean_text  category  Length\n",
       "0  when modi promised “minimum government maximum...  negative     210\n",
       "1  talk all the nonsense and continue all the dra...   neutral      68\n",
       "2  what did just say vote for modi  welcome bjp t...  positive     117\n",
       "3  asking his supporters prefix chowkidar their n...  positive     212\n",
       "4  answer who among these the most powerful world...  positive      81"
      ]
     },
     "execution_count": 13,
     "metadata": {},
     "output_type": "execute_result"
    }
   ],
   "source": [
    "#Checking which text has the highest number of characters\n",
    "data['Length'] = data['clean_text'].apply(len)\n",
    "data.head()"
   ]
  },
  {
   "cell_type": "code",
   "execution_count": 14,
   "id": "8a3aceb4-23e4-4aaf-acc8-0472cc758239",
   "metadata": {},
   "outputs": [
    {
     "data": {
      "text/plain": [
       "Text(0.5, 1.0, 'Distribution')"
      ]
     },
     "execution_count": 14,
     "metadata": {},
     "output_type": "execute_result"
    },
    {
     "data": {
      "image/png": "[encoded data removed]",
      "text/plain": [
       "<Figure size 864x720 with 4 Axes>"
      ]
     },
     "metadata": {},
     "output_type": "display_data"
    }
   ],
   "source": [
    "#Displaying the category with the highest number of character\n",
    "data.hist(column='Length', by='category', bins=50,figsize=(12,10))\n",
    "plt.title(\"Distribution\")"
   ]
  },
  {
   "cell_type": "code",
   "execution_count": null,
   "id": "3ad3a80d-385a-48e0-acd9-7365708832b9",
   "metadata": {},
   "outputs": [],
   "source": []
  },
  {
   "cell_type": "markdown",
   "id": "6cb2c04f-bfb1-4ec5-88f2-6d4cac14f8ff",
   "metadata": {},
   "source": [
    "# NO.3\n",
    "## Preprocessing the data"
   ]
  },
  {
   "cell_type": "code",
   "execution_count": null,
   "id": "53cab167-f986-4d66-801d-a7bf3fb665bd",
   "metadata": {},
   "outputs": [],
   "source": []
  },
  {
   "cell_type": "code",
   "execution_count": 15,
   "id": "a311d4a4-e1be-4d9a-9228-84ad9b429f12",
   "metadata": {},
   "outputs": [
    {
     "name": "stderr",
     "output_type": "stream",
     "text": [
      "[nltk_data] Downloading package punkt to\n",
      "[nltk_data]     C:\\Users\\user\\AppData\\Roaming\\nltk_data...\n",
      "[nltk_data]   Package punkt is already up-to-date!\n",
      "[nltk_data] Downloading package wordnet to\n",
      "[nltk_data]     C:\\Users\\user\\AppData\\Roaming\\nltk_data...\n",
      "[nltk_data]   Package wordnet is already up-to-date!\n"
     ]
    }
   ],
   "source": [
    "#Importing the libraried for Natural language processing\n",
    "import nltk\n",
    "nltk.download('punkt')\n",
    "nltk.download('wordnet')\n",
    "from nltk.tokenize import word_tokenize\n",
    "from nltk.stem import PorterStemmer\n",
    "from nltk.tokenize import sent_tokenize, word_tokenize\n",
    "from nltk.stem.wordnet import WordNetLemmatizer"
   ]
  },
  {
   "cell_type": "markdown",
   "id": "ecb196b1-f50a-4e80-ba3c-c544dd9ea494",
   "metadata": {},
   "source": [
    "##### Removing the quotes on the data and the turning the texts into lower case for easy preprocessing"
   ]
  },
  {
   "cell_type": "code",
   "execution_count": 16,
   "id": "e7021955-0571-4add-87ae-feec81cfce02",
   "metadata": {},
   "outputs": [],
   "source": [
    "#Removing the quotation marks from the text (Some of the text have quotation marks)\n",
    "data['clean_text'] = data['clean_text'].replace('“', '').replace('”', '').replace(\"'\", '').replace('’', '')\n",
    "#Converting the clean_text to lower case\n",
    "data['lower_text']=data['clean_text'].apply(lambda x: x.lower())\n"
   ]
  },
  {
   "cell_type": "code",
   "execution_count": 17,
   "id": "f9a59d34-73ff-46e9-b420-78fe08cefb0b",
   "metadata": {},
   "outputs": [
    {
     "data": {
      "text/html": [
       "<div>\n",
       "<style scoped>\n",
       "    .dataframe tbody tr th:only-of-type {\n",
       "        vertical-align: middle;\n",
       "    }\n",
       "\n",
       "    .dataframe tbody tr th {\n",
       "        vertical-align: top;\n",
       "    }\n",
       "\n",
       "    .dataframe thead th {\n",
       "        text-align: right;\n",
       "    }\n",
       "</style>\n",
       "<table border=\"1\" class=\"dataframe\">\n",
       "  <thead>\n",
       "    <tr style=\"text-align: right;\">\n",
       "      <th></th>\n",
       "      <th>clean_text</th>\n",
       "      <th>category</th>\n",
       "      <th>Length</th>\n",
       "      <th>lower_text</th>\n",
       "    </tr>\n",
       "  </thead>\n",
       "  <tbody>\n",
       "    <tr>\n",
       "      <th>0</th>\n",
       "      <td>when modi promised “minimum government maximum...</td>\n",
       "      <td>negative</td>\n",
       "      <td>210</td>\n",
       "      <td>when modi promised “minimum government maximum...</td>\n",
       "    </tr>\n",
       "    <tr>\n",
       "      <th>1</th>\n",
       "      <td>talk all the nonsense and continue all the dra...</td>\n",
       "      <td>neutral</td>\n",
       "      <td>68</td>\n",
       "      <td>talk all the nonsense and continue all the dra...</td>\n",
       "    </tr>\n",
       "    <tr>\n",
       "      <th>2</th>\n",
       "      <td>what did just say vote for modi  welcome bjp t...</td>\n",
       "      <td>positive</td>\n",
       "      <td>117</td>\n",
       "      <td>what did just say vote for modi  welcome bjp t...</td>\n",
       "    </tr>\n",
       "    <tr>\n",
       "      <th>3</th>\n",
       "      <td>asking his supporters prefix chowkidar their n...</td>\n",
       "      <td>positive</td>\n",
       "      <td>212</td>\n",
       "      <td>asking his supporters prefix chowkidar their n...</td>\n",
       "    </tr>\n",
       "    <tr>\n",
       "      <th>4</th>\n",
       "      <td>answer who among these the most powerful world...</td>\n",
       "      <td>positive</td>\n",
       "      <td>81</td>\n",
       "      <td>answer who among these the most powerful world...</td>\n",
       "    </tr>\n",
       "  </tbody>\n",
       "</table>\n",
       "</div>"
      ],
      "text/plain": [
       "                                          clean_text  category  Length  \\\n",
       "0  when modi promised “minimum government maximum...  negative     210   \n",
       "1  talk all the nonsense and continue all the dra...   neutral      68   \n",
       "2  what did just say vote for modi  welcome bjp t...  positive     117   \n",
       "3  asking his supporters prefix chowkidar their n...  positive     212   \n",
       "4  answer who among these the most powerful world...  positive      81   \n",
       "\n",
       "                                          lower_text  \n",
       "0  when modi promised “minimum government maximum...  \n",
       "1  talk all the nonsense and continue all the dra...  \n",
       "2  what did just say vote for modi  welcome bjp t...  \n",
       "3  asking his supporters prefix chowkidar their n...  \n",
       "4  answer who among these the most powerful world...  "
      ]
     },
     "execution_count": 17,
     "metadata": {},
     "output_type": "execute_result"
    }
   ],
   "source": [
    "data.head()"
   ]
  },
  {
   "cell_type": "code",
   "execution_count": null,
   "id": "5e69dfe9-141e-417e-992e-4e9c67dd9ef6",
   "metadata": {},
   "outputs": [],
   "source": []
  },
  {
   "cell_type": "markdown",
   "id": "3c7473d7-fe96-4242-9664-b87bde23fa04",
   "metadata": {},
   "source": [
    "##### Function for removing the punctuation marks on the texts, stop words and lemmatizing the data\n",
    "#####  Lemmatization reduces the inflected words properly ensuring that the root word belongs to the language. "
   ]
  },
  {
   "cell_type": "code",
   "execution_count": 18,
   "id": "5b1e47a8-8bab-45e1-833c-a9a7f4111dd3",
   "metadata": {},
   "outputs": [],
   "source": [
    "#removing punctuation marks and stop words from the posts\n",
    "from nltk.corpus import stopwords\n",
    "\n",
    "def data_preprocessing(posts):\n",
    "    \"\"\"\n",
    "    Takes in a string of text, then performs the following:\n",
    "    1. Remove all punctuation\n",
    "    2. Remove all stopwords\n",
    "    3. Returns a list of the cleaned text\n",
    "    \"\"\"\n",
    "   #Tokenizing the words \n",
    "    tokenized_word=word_tokenize(posts)\n",
    "    # Check characters to see if they are in punctuation\n",
    "    nopunc = [char for char in tokenized_word if char not in string.punctuation]\n",
    "\n",
    "    # Join the characters again to form the string.\n",
    "    #nopunc = ''.join(nopunc)\n",
    "    \n",
    "    # Now just remove any stopwords\n",
    "    nostop=[word for word in nopunc if word not in stopwords.words('english')]\n",
    "    \n",
    "    #lemmatization\n",
    "    lem = WordNetLemmatizer()\n",
    "    return [lem.lemmatize(word) for word in nostop]\n",
    "\n"
   ]
  },
  {
   "cell_type": "code",
   "execution_count": null,
   "id": "3383c5bb-98ef-4642-81be-ff5cba32927a",
   "metadata": {},
   "outputs": [],
   "source": []
  },
  {
   "cell_type": "markdown",
   "id": "acd3c2cf-aace-4754-925f-d09adb280622",
   "metadata": {
    "tags": []
   },
   "source": [
    "# NO.4\n",
    "## Training the model"
   ]
  },
  {
   "cell_type": "code",
   "execution_count": null,
   "id": "1635c8f7-0623-41f3-8597-06c50a0a1783",
   "metadata": {},
   "outputs": [],
   "source": []
  },
  {
   "cell_type": "code",
   "execution_count": 19,
   "id": "ed243b6a-8220-47cd-b48e-96a4f944daae",
   "metadata": {},
   "outputs": [],
   "source": [
    "#Splitting  the data to training and testing\n",
    "from sklearn.model_selection import train_test_split\n",
    "post_train,post_test,y_train,y_test = train_test_split(data['lower_text'],data['category'],test_size=0.3,random_state=123)"
   ]
  },
  {
   "cell_type": "code",
   "execution_count": 20,
   "id": "d18140e7-0863-4ee4-8754-e60df5312032",
   "metadata": {},
   "outputs": [
    {
     "data": {
      "text/plain": [
       "((114078,), (48891,), (114078,), (48891,))"
      ]
     },
     "execution_count": 20,
     "metadata": {},
     "output_type": "execute_result"
    }
   ],
   "source": [
    "post_train.shape,post_test.shape,y_train.shape,y_test.shape"
   ]
  },
  {
   "cell_type": "code",
   "execution_count": null,
   "id": "6757073d-ce09-46c6-a2cf-b12dbd50e432",
   "metadata": {},
   "outputs": [],
   "source": []
  },
  {
   "cell_type": "markdown",
   "id": "35f2e441-48cd-4758-baea-cb4b0aa1cc8e",
   "metadata": {},
   "source": [
    "#### Importing necessary libraries for processing the data into vectors and finding the TF-IDF features for the data\n",
    "#### **CountVectorizer** -  Used to count the number of words (term frequency), limit your vocabulary size, apply stop words and etc\n",
    "####  **TfidfTransformer** - finds the TF-IDF features for the data\n",
    "####  **Pipeline** - Creates a single function(pipeline) for performing the above tasks at once when you pass in the data."
   ]
  },
  {
   "cell_type": "code",
   "execution_count": 21,
   "id": "deb3fa52-7889-4375-95e3-f04c0cd3ecea",
   "metadata": {},
   "outputs": [],
   "source": [
    "# Importing the necessary libraries\n",
    "from sklearn.feature_extraction.text import CountVectorizer\n",
    "from sklearn.feature_extraction.text import TfidfTransformer\n",
    "from sklearn.pipeline import Pipeline\n"
   ]
  },
  {
   "cell_type": "code",
   "execution_count": 22,
   "id": "312a7219-4441-4e29-aa97-73995490f1f2",
   "metadata": {},
   "outputs": [],
   "source": [
    "#Import the classification model for the data\n",
    "from sklearn.naive_bayes import MultinomialNB"
   ]
  },
  {
   "cell_type": "code",
   "execution_count": 23,
   "id": "09381259-9669-4ee5-a93e-394a9423b407",
   "metadata": {},
   "outputs": [],
   "source": [
    "# Pipeline for passing data\n",
    "pipeline = Pipeline([\n",
    "    ('bow', CountVectorizer(analyzer=data_preprocessing)),  # strings to token integer counts\n",
    "    ('tfidf', TfidfTransformer()),  # integer counts to weighted TF-IDF scores\n",
    "    ('classifier', MultinomialNB()),  # train on TF-IDF vectors w/ Naive Bayes classifier\n",
    "])"
   ]
  },
  {
   "cell_type": "code",
   "execution_count": 24,
   "id": "f3343b57-f9e2-4372-8164-dd21141a3947",
   "metadata": {},
   "outputs": [
    {
     "data": {
      "text/plain": [
       "Pipeline(steps=[('bow',\n",
       "                 CountVectorizer(analyzer=<function data_preprocessing at 0x0000022E99CD0708>)),\n",
       "                ('tfidf', TfidfTransformer()),\n",
       "                ('classifier', MultinomialNB())])"
      ]
     },
     "execution_count": 24,
     "metadata": {},
     "output_type": "execute_result"
    }
   ],
   "source": [
    "# Training the model by passing the data through the pipelne function\n",
    "pipeline.fit(post_train,y_train)"
   ]
  },
  {
   "cell_type": "code",
   "execution_count": 25,
   "id": "167e2e88-576a-4e9a-a0b5-737aeac3004e",
   "metadata": {},
   "outputs": [],
   "source": [
    "# using the model to predict the testing data\n",
    "predictions = pipeline.predict(post_test)"
   ]
  },
  {
   "cell_type": "code",
   "execution_count": null,
   "id": "a5b9e79d-0c26-4bb9-a8fa-a194b971f6e3",
   "metadata": {},
   "outputs": [],
   "source": []
  },
  {
   "cell_type": "markdown",
   "id": "757c262f-e1cd-460d-8962-19160f67a2c1",
   "metadata": {},
   "source": [
    "#### Measuring the performance of the model"
   ]
  },
  {
   "cell_type": "code",
   "execution_count": 26,
   "id": "1f006674-1094-4395-b607-7853b286d2ab",
   "metadata": {},
   "outputs": [
    {
     "name": "stdout",
     "output_type": "stream",
     "text": [
      "              precision    recall  f1-score   support\n",
      "\n",
      "    negative       0.94      0.11      0.19     10821\n",
      "     neutral       0.88      0.33      0.48     16503\n",
      "    positive       0.51      0.98      0.67     21567\n",
      "\n",
      "    accuracy                           0.57     48891\n",
      "   macro avg       0.78      0.47      0.45     48891\n",
      "weighted avg       0.73      0.57      0.50     48891\n",
      "\n",
      "0.5665050827350637\n"
     ]
    }
   ],
   "source": [
    "# Importing the necessary Libraries\n",
    "from sklearn.metrics import classification_report\n",
    "from sklearn.metrics import accuracy_score\n",
    "print(classification_report(y_test,predictions))\n",
    "print(accuracy_score(y_test,predictions))"
   ]
  },
  {
   "cell_type": "code",
   "execution_count": null,
   "id": "8d2e09e3-7014-4e29-8542-c9b98cd5262e",
   "metadata": {},
   "outputs": [],
   "source": []
  },
  {
   "cell_type": "code",
   "execution_count": 27,
   "id": "68344c41-6e2b-4e2a-a026-9590161e9e42",
   "metadata": {},
   "outputs": [],
   "source": [
    "#Importing random forest model\n",
    "from sklearn.ensemble import RandomForestClassifier"
   ]
  },
  {
   "cell_type": "code",
   "execution_count": 28,
   "id": "10eabebb-efb6-4566-a65c-75a7be178454",
   "metadata": {},
   "outputs": [],
   "source": [
    "# Pipeline for passing data\n",
    "pipeline = Pipeline([\n",
    "    ('bow', CountVectorizer(analyzer=data_preprocessing)),  # strings to token integer counts\n",
    "    ('tfidf', TfidfTransformer()),  # integer counts to weighted TF-IDF scores\n",
    "    ('classifier',RandomForestClassifier()),  # train on TF-IDF vectors w/ Naive Bayes classifier\n",
    "])"
   ]
  },
  {
   "cell_type": "code",
   "execution_count": 29,
   "id": "6a9b6d3f-bc8e-4f79-9a45-c28f7b56dfc8",
   "metadata": {},
   "outputs": [
    {
     "data": {
      "text/plain": [
       "Pipeline(steps=[('bow',\n",
       "                 CountVectorizer(analyzer=<function data_preprocessing at 0x0000022E99CD0708>)),\n",
       "                ('tfidf', TfidfTransformer()),\n",
       "                ('classifier', RandomForestClassifier())])"
      ]
     },
     "execution_count": 29,
     "metadata": {},
     "output_type": "execute_result"
    }
   ],
   "source": [
    "# Training the model by passing the data through the pipelne function\n",
    "pipeline.fit(post_train,y_train)"
   ]
  },
  {
   "cell_type": "code",
   "execution_count": 30,
   "id": "bb1cb82f-3740-4ec5-9855-a2c6172e93c6",
   "metadata": {},
   "outputs": [],
   "source": [
    "# using the model to predict the testing data\n",
    "predictions = pipeline.predict(post_test)\n"
   ]
  },
  {
   "cell_type": "code",
   "execution_count": 31,
   "id": "7c13a59a-e3cc-43af-ac3f-3dc196c3a2cf",
   "metadata": {},
   "outputs": [
    {
     "name": "stdout",
     "output_type": "stream",
     "text": [
      "              precision    recall  f1-score   support\n",
      "\n",
      "    negative       0.89      0.57      0.69     10821\n",
      "     neutral       0.83      0.91      0.87     16503\n",
      "    positive       0.81      0.90      0.85     21567\n",
      "\n",
      "    accuracy                           0.83     48891\n",
      "   macro avg       0.84      0.79      0.80     48891\n",
      "weighted avg       0.83      0.83      0.82     48891\n",
      "\n",
      "0.8268392955758729\n"
     ]
    }
   ],
   "source": [
    "# Importing the necessary Libraries \n",
    "from sklearn.metrics import classification_report\n",
    "print(classification_report(y_test,predictions))\n",
    "print(accuracy_score(y_test,predictions))"
   ]
  },
  {
   "cell_type": "markdown",
   "id": "3e94be52-b970-49e8-8973-82998e336272",
   "metadata": {},
   "source": [
    "# No. 5\n",
    "### Conclusion"
   ]
  },
  {
   "cell_type": "markdown",
   "id": "4a725d52-d9b8-4760-914b-ad31ad666233",
   "metadata": {},
   "source": [
    "#### Since the data is not balanced, we are going to use f1 score to evaluate the model performamce instead of accuracy.\n",
    "#### We notice from the two models used, RandomForestClassifier has the highest score thus the best model to classfy the sentiments"
   ]
  },
  {
   "cell_type": "code",
   "execution_count": null,
   "id": "4d41b537-f13a-4270-99b9-67c8ae52c2d2",
   "metadata": {},
   "outputs": [],
   "source": []
  }
 ],
 "metadata": {
  "kernelspec": {
   "display_name": "Python 3",
   "language": "python",
   "name": "python3"
  },
  "language_info": {
   "codemirror_mode": {
    "name": "ipython",
    "version": 3
   },
   "file_extension": ".py",
   "mimetype": "text/x-python",
   "name": "python",
   "nbconvert_exporter": "python",
   "pygments_lexer": "ipython3",
   "version": "3.7.11"
  }
 },
 "nbformat": 4,
 "nbformat_minor": 5
}
